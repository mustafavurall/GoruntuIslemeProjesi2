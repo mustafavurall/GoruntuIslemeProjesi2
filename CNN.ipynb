{
 "cells": [
  {
   "cell_type": "code",
   "execution_count": 52,
   "id": "ea64bb44-b269-4a10-9c06-d42a975d619b",
   "metadata": {},
   "outputs": [],
   "source": [
    "import tensorflow as tf\n",
    "from tensorflow import keras\n",
    "from tensorflow.keras import layers\n",
    "import matplotlib.pyplot as plt\n",
    "import os\n"
   ]
  },
  {
   "cell_type": "code",
   "execution_count": 53,
   "id": "bd82feff-f603-48f8-946c-5b98da660cae",
   "metadata": {},
   "outputs": [],
   "source": [
    "# Veri setinin yolu\n",
    "base_dir = r'C:\\Users\\1must\\Desktop\\MeyveVeriseti\\dataset'  \n",
    "\n",
    "# Eğitim ve test veri yolları\n",
    "train_dir = os.path.join(base_dir, 'train')\n",
    "test_dir = os.path.join(base_dir, 'test')"
   ]
  },
  {
   "cell_type": "code",
   "execution_count": 54,
   "id": "fdf52c5a-30cf-49f1-8e07-28c95324442f",
   "metadata": {},
   "outputs": [
    {
     "name": "stdout",
     "output_type": "stream",
     "text": [
      "Found 23619 files belonging to 18 classes.\n",
      "Found 6738 files belonging to 14 classes.\n"
     ]
    }
   ],
   "source": [
    "# Eğitim ve test veri setlerini yükle\n",
    "train_ds = keras.preprocessing.image_dataset_from_directory(\n",
    "    train_dir,\n",
    "    image_size=(256, 256),  # Resim boyutunu değiştirin\n",
    "    batch_size=32\n",
    ")\n",
    "\n",
    "test_ds = keras.preprocessing.image_dataset_from_directory(\n",
    "    test_dir,\n",
    "    image_size=(256, 256),\n",
    "    batch_size=32\n",
    ")"
   ]
  },
  {
   "cell_type": "code",
   "execution_count": 55,
   "id": "8684c720-60d4-4ff5-a2ed-3a404176fca1",
   "metadata": {},
   "outputs": [],
   "source": [
    "# Veri artırma uygulamak için bir ön işleme katmanı oluşturun\n",
    "data_augmentation = keras.Sequential([\n",
    "    layers.RandomFlip(\"horizontal_and_vertical\"),\n",
    "    layers.RandomRotation(0.2),\n",
    "])"
   ]
  },
  {
   "cell_type": "code",
   "execution_count": 56,
   "id": "b7f46dcf-3538-468e-89ce-ef2548a729bc",
   "metadata": {},
   "outputs": [],
   "source": [
    "# Modeli oluştur\n",
    "model = keras.Sequential([\n",
    "    data_augmentation,\n",
    "    layers.Rescaling(1./255, input_shape=(256, 256, 3)),  # Resimleri normalleştir\n",
    "    layers.Conv2D(32, 3, activation='relu'),\n",
    "    layers.MaxPooling2D(),\n",
    "    layers.Conv2D(64, 3, activation='relu'),\n",
    "    layers.MaxPooling2D(),\n",
    "    layers.Conv2D(128, 3, activation='relu'),\n",
    "    layers.MaxPooling2D(),\n",
    "    layers.Flatten(),\n",
    "    layers.Dense(128, activation='relu'),\n",
    "    layers.Dense(len(train_ds.class_names), activation='softmax')  # Sınıf sayısını değiştirin\n",
    "])"
   ]
  },
  {
   "cell_type": "code",
   "execution_count": 57,
   "id": "61e9c834-2e3d-46dd-84b3-4a1a59eb1f25",
   "metadata": {},
   "outputs": [],
   "source": [
    "# Modeli derle\n",
    "model.compile(optimizer='adam',\n",
    "              loss='sparse_categorical_crossentropy',\n",
    "              metrics=['accuracy'])\n"
   ]
  },
  {
   "cell_type": "code",
   "execution_count": 58,
   "id": "7c672697-c06f-4c89-8b27-de6124a8595f",
   "metadata": {},
   "outputs": [
    {
     "name": "stdout",
     "output_type": "stream",
     "text": [
      "Epoch 1/10\n",
      "\u001b[1m739/739\u001b[0m \u001b[32m━━━━━━━━━━━━━━━━━━━━\u001b[0m\u001b[37m\u001b[0m \u001b[1m264s\u001b[0m 354ms/step - accuracy: 0.5750 - loss: 1.4084 - val_accuracy: 0.2293 - val_loss: 9.3106\n",
      "Epoch 2/10\n",
      "\u001b[1m739/739\u001b[0m \u001b[32m━━━━━━━━━━━━━━━━━━━━\u001b[0m\u001b[37m\u001b[0m \u001b[1m785s\u001b[0m 1s/step - accuracy: 0.8424 - loss: 0.4203 - val_accuracy: 0.2392 - val_loss: 11.4939\n",
      "Epoch 3/10\n",
      "\u001b[1m739/739\u001b[0m \u001b[32m━━━━━━━━━━━━━━━━━━━━\u001b[0m\u001b[37m\u001b[0m \u001b[1m274s\u001b[0m 370ms/step - accuracy: 0.8800 - loss: 0.3220 - val_accuracy: 0.2438 - val_loss: 11.6252\n",
      "Epoch 4/10\n",
      "\u001b[1m739/739\u001b[0m \u001b[32m━━━━━━━━━━━━━━━━━━━━\u001b[0m\u001b[37m\u001b[0m \u001b[1m296s\u001b[0m 401ms/step - accuracy: 0.8961 - loss: 0.2747 - val_accuracy: 0.2430 - val_loss: 11.7645\n",
      "Epoch 5/10\n",
      "\u001b[1m739/739\u001b[0m \u001b[32m━━━━━━━━━━━━━━━━━━━━\u001b[0m\u001b[37m\u001b[0m \u001b[1m322s\u001b[0m 435ms/step - accuracy: 0.9127 - loss: 0.2343 - val_accuracy: 0.2484 - val_loss: 15.1863\n",
      "Epoch 6/10\n",
      "\u001b[1m739/739\u001b[0m \u001b[32m━━━━━━━━━━━━━━━━━━━━\u001b[0m\u001b[37m\u001b[0m \u001b[1m317s\u001b[0m 429ms/step - accuracy: 0.9166 - loss: 0.2182 - val_accuracy: 0.2484 - val_loss: 14.3099\n",
      "Epoch 7/10\n",
      "\u001b[1m739/739\u001b[0m \u001b[32m━━━━━━━━━━━━━━━━━━━━\u001b[0m\u001b[37m\u001b[0m \u001b[1m308s\u001b[0m 416ms/step - accuracy: 0.9271 - loss: 0.1876 - val_accuracy: 0.2361 - val_loss: 16.2678\n",
      "Epoch 8/10\n",
      "\u001b[1m739/739\u001b[0m \u001b[32m━━━━━━━━━━━━━━━━━━━━\u001b[0m\u001b[37m\u001b[0m \u001b[1m304s\u001b[0m 411ms/step - accuracy: 0.9254 - loss: 0.2013 - val_accuracy: 0.2476 - val_loss: 17.7602\n",
      "Epoch 9/10\n",
      "\u001b[1m739/739\u001b[0m \u001b[32m━━━━━━━━━━━━━━━━━━━━\u001b[0m\u001b[37m\u001b[0m \u001b[1m317s\u001b[0m 429ms/step - accuracy: 0.9414 - loss: 0.1512 - val_accuracy: 0.2476 - val_loss: 16.9213\n",
      "Epoch 10/10\n",
      "\u001b[1m739/739\u001b[0m \u001b[32m━━━━━━━━━━━━━━━━━━━━\u001b[0m\u001b[37m\u001b[0m \u001b[1m307s\u001b[0m 416ms/step - accuracy: 0.9444 - loss: 0.1502 - val_accuracy: 0.2487 - val_loss: 19.2581\n"
     ]
    }
   ],
   "source": [
    "# Modeli eğit\n",
    "history = model.fit(\n",
    "    train_ds,\n",
    "    validation_data=test_ds,  # Test verisi doğrulama için kullanılıyor\n",
    "    epochs=10  # Eğitim döngüsü sayısını değiştirin\n",
    ")"
   ]
  },
  {
   "cell_type": "code",
   "execution_count": 59,
   "id": "8b70661e-d54d-41b8-86c5-c0490595c99d",
   "metadata": {},
   "outputs": [
    {
     "data": {
      "image/png": "[encoded data removed]",
      "text/plain": [
       "<Figure size 640x480 with 1 Axes>"
      ]
     },
     "metadata": {},
     "output_type": "display_data"
    }
   ],
   "source": [
    "# Eğitim sonuçlarını görselleştir\n",
    "plt.plot(history.history['accuracy'], label='Eğitim Doğruluğu')\n",
    "plt.plot(history.history['val_accuracy'], label='Doğrulama Doğruluğu')\n",
    "plt.xlabel('Epoch')\n",
    "plt.ylabel('Doğruluk')\n",
    "plt.legend()\n",
    "plt.show()"
   ]
  },
  {
   "cell_type": "code",
   "execution_count": 60,
   "id": "d9c878e6-7e49-4c06-830e-05125978ce40",
   "metadata": {},
   "outputs": [],
   "source": [
    "model.save('fruit_vegetable_model.keras')"
   ]
  },
  {
   "cell_type": "code",
   "execution_count": null,
   "id": "af4d1291-5a52-45e7-ac11-f08d9530b53d",
   "metadata": {},
   "outputs": [],
   "source": []
  }
 ],
 "metadata": {
  "kernelspec": {
   "display_name": "Python 3 (ipykernel)",
   "language": "python",
   "name": "python3"
  },
  "language_info": {
   "codemirror_mode": {
    "name": "ipython",
    "version": 3
   },
   "file_extension": ".py",
   "mimetype": "text/x-python",
   "name": "python",
   "nbconvert_exporter": "python",
   "pygments_lexer": "ipython3",
   "version": "3.11.7"
  }
 },
 "nbformat": 4,
 "nbformat_minor": 5
}
